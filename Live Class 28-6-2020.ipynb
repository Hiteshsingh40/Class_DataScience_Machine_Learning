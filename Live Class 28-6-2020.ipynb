{
 "cells": [
  {
   "cell_type": "code",
   "execution_count": 1,
   "metadata": {},
   "outputs": [
    {
     "data": {
      "text/plain": [
       "['DESCR',\n",
       " 'data',\n",
       " 'data_filename',\n",
       " 'feature_names',\n",
       " 'target',\n",
       " 'target_filename']"
      ]
     },
     "execution_count": 1,
     "metadata": {},
     "output_type": "execute_result"
    }
   ],
   "source": [
    "from sklearn import datasets\n",
    "diabetes = datasets.load_diabetes()\n",
    "dir(diabetes)"
   ]
  },
  {
   "cell_type": "code",
   "execution_count": 2,
   "metadata": {},
   "outputs": [],
   "source": [
    "import pandas as pd\n",
    "df_input=pd.DataFrame(diabetes.data,columns=diabetes.feature_names)\n",
    "df_target=pd.DataFrame(diabetes.target,columns=['DiseaseProgression'])"
   ]
  },
  {
   "cell_type": "code",
   "execution_count": 3,
   "metadata": {},
   "outputs": [
    {
     "data": {
      "text/html": [
       "<div>\n",
       "<style scoped>\n",
       "    .dataframe tbody tr th:only-of-type {\n",
       "        vertical-align: middle;\n",
       "    }\n",
       "\n",
       "    .dataframe tbody tr th {\n",
       "        vertical-align: top;\n",
       "    }\n",
       "\n",
       "    .dataframe thead th {\n",
       "        text-align: right;\n",
       "    }\n",
       "</style>\n",
       "<table border=\"1\" class=\"dataframe\">\n",
       "  <thead>\n",
       "    <tr style=\"text-align: right;\">\n",
       "      <th></th>\n",
       "      <th>age</th>\n",
       "      <th>sex</th>\n",
       "      <th>bmi</th>\n",
       "      <th>bp</th>\n",
       "      <th>s1</th>\n",
       "      <th>s2</th>\n",
       "      <th>s3</th>\n",
       "      <th>s4</th>\n",
       "      <th>s5</th>\n",
       "      <th>s6</th>\n",
       "    </tr>\n",
       "  </thead>\n",
       "  <tbody>\n",
       "    <tr>\n",
       "      <th>0</th>\n",
       "      <td>0.038076</td>\n",
       "      <td>0.050680</td>\n",
       "      <td>0.061696</td>\n",
       "      <td>0.021872</td>\n",
       "      <td>-0.044223</td>\n",
       "      <td>-0.034821</td>\n",
       "      <td>-0.043401</td>\n",
       "      <td>-0.002592</td>\n",
       "      <td>0.019908</td>\n",
       "      <td>-0.017646</td>\n",
       "    </tr>\n",
       "    <tr>\n",
       "      <th>1</th>\n",
       "      <td>-0.001882</td>\n",
       "      <td>-0.044642</td>\n",
       "      <td>-0.051474</td>\n",
       "      <td>-0.026328</td>\n",
       "      <td>-0.008449</td>\n",
       "      <td>-0.019163</td>\n",
       "      <td>0.074412</td>\n",
       "      <td>-0.039493</td>\n",
       "      <td>-0.068330</td>\n",
       "      <td>-0.092204</td>\n",
       "    </tr>\n",
       "    <tr>\n",
       "      <th>2</th>\n",
       "      <td>0.085299</td>\n",
       "      <td>0.050680</td>\n",
       "      <td>0.044451</td>\n",
       "      <td>-0.005671</td>\n",
       "      <td>-0.045599</td>\n",
       "      <td>-0.034194</td>\n",
       "      <td>-0.032356</td>\n",
       "      <td>-0.002592</td>\n",
       "      <td>0.002864</td>\n",
       "      <td>-0.025930</td>\n",
       "    </tr>\n",
       "    <tr>\n",
       "      <th>3</th>\n",
       "      <td>-0.089063</td>\n",
       "      <td>-0.044642</td>\n",
       "      <td>-0.011595</td>\n",
       "      <td>-0.036656</td>\n",
       "      <td>0.012191</td>\n",
       "      <td>0.024991</td>\n",
       "      <td>-0.036038</td>\n",
       "      <td>0.034309</td>\n",
       "      <td>0.022692</td>\n",
       "      <td>-0.009362</td>\n",
       "    </tr>\n",
       "    <tr>\n",
       "      <th>4</th>\n",
       "      <td>0.005383</td>\n",
       "      <td>-0.044642</td>\n",
       "      <td>-0.036385</td>\n",
       "      <td>0.021872</td>\n",
       "      <td>0.003935</td>\n",
       "      <td>0.015596</td>\n",
       "      <td>0.008142</td>\n",
       "      <td>-0.002592</td>\n",
       "      <td>-0.031991</td>\n",
       "      <td>-0.046641</td>\n",
       "    </tr>\n",
       "    <tr>\n",
       "      <th>...</th>\n",
       "      <td>...</td>\n",
       "      <td>...</td>\n",
       "      <td>...</td>\n",
       "      <td>...</td>\n",
       "      <td>...</td>\n",
       "      <td>...</td>\n",
       "      <td>...</td>\n",
       "      <td>...</td>\n",
       "      <td>...</td>\n",
       "      <td>...</td>\n",
       "    </tr>\n",
       "    <tr>\n",
       "      <th>437</th>\n",
       "      <td>0.041708</td>\n",
       "      <td>0.050680</td>\n",
       "      <td>0.019662</td>\n",
       "      <td>0.059744</td>\n",
       "      <td>-0.005697</td>\n",
       "      <td>-0.002566</td>\n",
       "      <td>-0.028674</td>\n",
       "      <td>-0.002592</td>\n",
       "      <td>0.031193</td>\n",
       "      <td>0.007207</td>\n",
       "    </tr>\n",
       "    <tr>\n",
       "      <th>438</th>\n",
       "      <td>-0.005515</td>\n",
       "      <td>0.050680</td>\n",
       "      <td>-0.015906</td>\n",
       "      <td>-0.067642</td>\n",
       "      <td>0.049341</td>\n",
       "      <td>0.079165</td>\n",
       "      <td>-0.028674</td>\n",
       "      <td>0.034309</td>\n",
       "      <td>-0.018118</td>\n",
       "      <td>0.044485</td>\n",
       "    </tr>\n",
       "    <tr>\n",
       "      <th>439</th>\n",
       "      <td>0.041708</td>\n",
       "      <td>0.050680</td>\n",
       "      <td>-0.015906</td>\n",
       "      <td>0.017282</td>\n",
       "      <td>-0.037344</td>\n",
       "      <td>-0.013840</td>\n",
       "      <td>-0.024993</td>\n",
       "      <td>-0.011080</td>\n",
       "      <td>-0.046879</td>\n",
       "      <td>0.015491</td>\n",
       "    </tr>\n",
       "    <tr>\n",
       "      <th>440</th>\n",
       "      <td>-0.045472</td>\n",
       "      <td>-0.044642</td>\n",
       "      <td>0.039062</td>\n",
       "      <td>0.001215</td>\n",
       "      <td>0.016318</td>\n",
       "      <td>0.015283</td>\n",
       "      <td>-0.028674</td>\n",
       "      <td>0.026560</td>\n",
       "      <td>0.044528</td>\n",
       "      <td>-0.025930</td>\n",
       "    </tr>\n",
       "    <tr>\n",
       "      <th>441</th>\n",
       "      <td>-0.045472</td>\n",
       "      <td>-0.044642</td>\n",
       "      <td>-0.073030</td>\n",
       "      <td>-0.081414</td>\n",
       "      <td>0.083740</td>\n",
       "      <td>0.027809</td>\n",
       "      <td>0.173816</td>\n",
       "      <td>-0.039493</td>\n",
       "      <td>-0.004220</td>\n",
       "      <td>0.003064</td>\n",
       "    </tr>\n",
       "  </tbody>\n",
       "</table>\n",
       "<p>442 rows × 10 columns</p>\n",
       "</div>"
      ],
      "text/plain": [
       "          age       sex       bmi        bp        s1        s2        s3  \\\n",
       "0    0.038076  0.050680  0.061696  0.021872 -0.044223 -0.034821 -0.043401   \n",
       "1   -0.001882 -0.044642 -0.051474 -0.026328 -0.008449 -0.019163  0.074412   \n",
       "2    0.085299  0.050680  0.044451 -0.005671 -0.045599 -0.034194 -0.032356   \n",
       "3   -0.089063 -0.044642 -0.011595 -0.036656  0.012191  0.024991 -0.036038   \n",
       "4    0.005383 -0.044642 -0.036385  0.021872  0.003935  0.015596  0.008142   \n",
       "..        ...       ...       ...       ...       ...       ...       ...   \n",
       "437  0.041708  0.050680  0.019662  0.059744 -0.005697 -0.002566 -0.028674   \n",
       "438 -0.005515  0.050680 -0.015906 -0.067642  0.049341  0.079165 -0.028674   \n",
       "439  0.041708  0.050680 -0.015906  0.017282 -0.037344 -0.013840 -0.024993   \n",
       "440 -0.045472 -0.044642  0.039062  0.001215  0.016318  0.015283 -0.028674   \n",
       "441 -0.045472 -0.044642 -0.073030 -0.081414  0.083740  0.027809  0.173816   \n",
       "\n",
       "           s4        s5        s6  \n",
       "0   -0.002592  0.019908 -0.017646  \n",
       "1   -0.039493 -0.068330 -0.092204  \n",
       "2   -0.002592  0.002864 -0.025930  \n",
       "3    0.034309  0.022692 -0.009362  \n",
       "4   -0.002592 -0.031991 -0.046641  \n",
       "..        ...       ...       ...  \n",
       "437 -0.002592  0.031193  0.007207  \n",
       "438  0.034309 -0.018118  0.044485  \n",
       "439 -0.011080 -0.046879  0.015491  \n",
       "440  0.026560  0.044528 -0.025930  \n",
       "441 -0.039493 -0.004220  0.003064  \n",
       "\n",
       "[442 rows x 10 columns]"
      ]
     },
     "execution_count": 3,
     "metadata": {},
     "output_type": "execute_result"
    }
   ],
   "source": [
    "df_input\n",
    "# Here all the variables are in scaled format alredy"
   ]
  },
  {
   "cell_type": "code",
   "execution_count": 4,
   "metadata": {},
   "outputs": [
    {
     "name": "stdout",
     "output_type": "stream",
     "text": [
      "age    0\n",
      "sex    0\n",
      "bmi    0\n",
      "bp     0\n",
      "s1     0\n",
      "s2     0\n",
      "s3     0\n",
      "s4     0\n",
      "s5     0\n",
      "s6     0\n",
      "dtype: int64\n",
      "\n",
      "DiseaseProgression    0\n",
      "dtype: int64\n"
     ]
    }
   ],
   "source": [
    "# Lets check whether it contain any null value or not\n",
    "print(df_input.isnull().sum())\n",
    "print()\n",
    "print(df_target.isnull().sum())\n",
    "# From below output its clear that given"
   ]
  },
  {
   "cell_type": "code",
   "execution_count": 5,
   "metadata": {},
   "outputs": [
    {
     "data": {
      "text/html": [
       "<div>\n",
       "<style scoped>\n",
       "    .dataframe tbody tr th:only-of-type {\n",
       "        vertical-align: middle;\n",
       "    }\n",
       "\n",
       "    .dataframe tbody tr th {\n",
       "        vertical-align: top;\n",
       "    }\n",
       "\n",
       "    .dataframe thead th {\n",
       "        text-align: right;\n",
       "    }\n",
       "</style>\n",
       "<table border=\"1\" class=\"dataframe\">\n",
       "  <thead>\n",
       "    <tr style=\"text-align: right;\">\n",
       "      <th></th>\n",
       "      <th>age</th>\n",
       "      <th>sex</th>\n",
       "      <th>bmi</th>\n",
       "      <th>bp</th>\n",
       "      <th>s1</th>\n",
       "      <th>s2</th>\n",
       "      <th>s3</th>\n",
       "      <th>s4</th>\n",
       "      <th>s5</th>\n",
       "      <th>s6</th>\n",
       "      <th>DiseaseProgression</th>\n",
       "    </tr>\n",
       "  </thead>\n",
       "  <tbody>\n",
       "    <tr>\n",
       "      <th>age</th>\n",
       "      <td>1.000000</td>\n",
       "      <td>0.173737</td>\n",
       "      <td>0.185085</td>\n",
       "      <td>0.335427</td>\n",
       "      <td>0.260061</td>\n",
       "      <td>0.219243</td>\n",
       "      <td>-0.075181</td>\n",
       "      <td>0.203841</td>\n",
       "      <td>0.270777</td>\n",
       "      <td>0.301731</td>\n",
       "      <td>0.187889</td>\n",
       "    </tr>\n",
       "    <tr>\n",
       "      <th>sex</th>\n",
       "      <td>0.173737</td>\n",
       "      <td>1.000000</td>\n",
       "      <td>0.088161</td>\n",
       "      <td>0.241013</td>\n",
       "      <td>0.035277</td>\n",
       "      <td>0.142637</td>\n",
       "      <td>-0.379090</td>\n",
       "      <td>0.332115</td>\n",
       "      <td>0.149918</td>\n",
       "      <td>0.208133</td>\n",
       "      <td>0.043062</td>\n",
       "    </tr>\n",
       "    <tr>\n",
       "      <th>bmi</th>\n",
       "      <td>0.185085</td>\n",
       "      <td>0.088161</td>\n",
       "      <td>1.000000</td>\n",
       "      <td>0.395415</td>\n",
       "      <td>0.249777</td>\n",
       "      <td>0.261170</td>\n",
       "      <td>-0.366811</td>\n",
       "      <td>0.413807</td>\n",
       "      <td>0.446159</td>\n",
       "      <td>0.388680</td>\n",
       "      <td>0.586450</td>\n",
       "    </tr>\n",
       "    <tr>\n",
       "      <th>bp</th>\n",
       "      <td>0.335427</td>\n",
       "      <td>0.241013</td>\n",
       "      <td>0.395415</td>\n",
       "      <td>1.000000</td>\n",
       "      <td>0.242470</td>\n",
       "      <td>0.185558</td>\n",
       "      <td>-0.178761</td>\n",
       "      <td>0.257653</td>\n",
       "      <td>0.393478</td>\n",
       "      <td>0.390429</td>\n",
       "      <td>0.441484</td>\n",
       "    </tr>\n",
       "    <tr>\n",
       "      <th>s1</th>\n",
       "      <td>0.260061</td>\n",
       "      <td>0.035277</td>\n",
       "      <td>0.249777</td>\n",
       "      <td>0.242470</td>\n",
       "      <td>1.000000</td>\n",
       "      <td>0.896663</td>\n",
       "      <td>0.051519</td>\n",
       "      <td>0.542207</td>\n",
       "      <td>0.515501</td>\n",
       "      <td>0.325717</td>\n",
       "      <td>0.212022</td>\n",
       "    </tr>\n",
       "    <tr>\n",
       "      <th>s2</th>\n",
       "      <td>0.219243</td>\n",
       "      <td>0.142637</td>\n",
       "      <td>0.261170</td>\n",
       "      <td>0.185558</td>\n",
       "      <td>0.896663</td>\n",
       "      <td>1.000000</td>\n",
       "      <td>-0.196455</td>\n",
       "      <td>0.659817</td>\n",
       "      <td>0.318353</td>\n",
       "      <td>0.290600</td>\n",
       "      <td>0.174054</td>\n",
       "    </tr>\n",
       "    <tr>\n",
       "      <th>s3</th>\n",
       "      <td>-0.075181</td>\n",
       "      <td>-0.379090</td>\n",
       "      <td>-0.366811</td>\n",
       "      <td>-0.178761</td>\n",
       "      <td>0.051519</td>\n",
       "      <td>-0.196455</td>\n",
       "      <td>1.000000</td>\n",
       "      <td>-0.738493</td>\n",
       "      <td>-0.398577</td>\n",
       "      <td>-0.273697</td>\n",
       "      <td>-0.394789</td>\n",
       "    </tr>\n",
       "    <tr>\n",
       "      <th>s4</th>\n",
       "      <td>0.203841</td>\n",
       "      <td>0.332115</td>\n",
       "      <td>0.413807</td>\n",
       "      <td>0.257653</td>\n",
       "      <td>0.542207</td>\n",
       "      <td>0.659817</td>\n",
       "      <td>-0.738493</td>\n",
       "      <td>1.000000</td>\n",
       "      <td>0.617857</td>\n",
       "      <td>0.417212</td>\n",
       "      <td>0.430453</td>\n",
       "    </tr>\n",
       "    <tr>\n",
       "      <th>s5</th>\n",
       "      <td>0.270777</td>\n",
       "      <td>0.149918</td>\n",
       "      <td>0.446159</td>\n",
       "      <td>0.393478</td>\n",
       "      <td>0.515501</td>\n",
       "      <td>0.318353</td>\n",
       "      <td>-0.398577</td>\n",
       "      <td>0.617857</td>\n",
       "      <td>1.000000</td>\n",
       "      <td>0.464670</td>\n",
       "      <td>0.565883</td>\n",
       "    </tr>\n",
       "    <tr>\n",
       "      <th>s6</th>\n",
       "      <td>0.301731</td>\n",
       "      <td>0.208133</td>\n",
       "      <td>0.388680</td>\n",
       "      <td>0.390429</td>\n",
       "      <td>0.325717</td>\n",
       "      <td>0.290600</td>\n",
       "      <td>-0.273697</td>\n",
       "      <td>0.417212</td>\n",
       "      <td>0.464670</td>\n",
       "      <td>1.000000</td>\n",
       "      <td>0.382483</td>\n",
       "    </tr>\n",
       "    <tr>\n",
       "      <th>DiseaseProgression</th>\n",
       "      <td>0.187889</td>\n",
       "      <td>0.043062</td>\n",
       "      <td>0.586450</td>\n",
       "      <td>0.441484</td>\n",
       "      <td>0.212022</td>\n",
       "      <td>0.174054</td>\n",
       "      <td>-0.394789</td>\n",
       "      <td>0.430453</td>\n",
       "      <td>0.565883</td>\n",
       "      <td>0.382483</td>\n",
       "      <td>1.000000</td>\n",
       "    </tr>\n",
       "  </tbody>\n",
       "</table>\n",
       "</div>"
      ],
      "text/plain": [
       "                         age       sex       bmi        bp        s1  \\\n",
       "age                 1.000000  0.173737  0.185085  0.335427  0.260061   \n",
       "sex                 0.173737  1.000000  0.088161  0.241013  0.035277   \n",
       "bmi                 0.185085  0.088161  1.000000  0.395415  0.249777   \n",
       "bp                  0.335427  0.241013  0.395415  1.000000  0.242470   \n",
       "s1                  0.260061  0.035277  0.249777  0.242470  1.000000   \n",
       "s2                  0.219243  0.142637  0.261170  0.185558  0.896663   \n",
       "s3                 -0.075181 -0.379090 -0.366811 -0.178761  0.051519   \n",
       "s4                  0.203841  0.332115  0.413807  0.257653  0.542207   \n",
       "s5                  0.270777  0.149918  0.446159  0.393478  0.515501   \n",
       "s6                  0.301731  0.208133  0.388680  0.390429  0.325717   \n",
       "DiseaseProgression  0.187889  0.043062  0.586450  0.441484  0.212022   \n",
       "\n",
       "                          s2        s3        s4        s5        s6  \\\n",
       "age                 0.219243 -0.075181  0.203841  0.270777  0.301731   \n",
       "sex                 0.142637 -0.379090  0.332115  0.149918  0.208133   \n",
       "bmi                 0.261170 -0.366811  0.413807  0.446159  0.388680   \n",
       "bp                  0.185558 -0.178761  0.257653  0.393478  0.390429   \n",
       "s1                  0.896663  0.051519  0.542207  0.515501  0.325717   \n",
       "s2                  1.000000 -0.196455  0.659817  0.318353  0.290600   \n",
       "s3                 -0.196455  1.000000 -0.738493 -0.398577 -0.273697   \n",
       "s4                  0.659817 -0.738493  1.000000  0.617857  0.417212   \n",
       "s5                  0.318353 -0.398577  0.617857  1.000000  0.464670   \n",
       "s6                  0.290600 -0.273697  0.417212  0.464670  1.000000   \n",
       "DiseaseProgression  0.174054 -0.394789  0.430453  0.565883  0.382483   \n",
       "\n",
       "                    DiseaseProgression  \n",
       "age                           0.187889  \n",
       "sex                           0.043062  \n",
       "bmi                           0.586450  \n",
       "bp                            0.441484  \n",
       "s1                            0.212022  \n",
       "s2                            0.174054  \n",
       "s3                           -0.394789  \n",
       "s4                            0.430453  \n",
       "s5                            0.565883  \n",
       "s6                            0.382483  \n",
       "DiseaseProgression            1.000000  "
      ]
     },
     "execution_count": 5,
     "metadata": {},
     "output_type": "execute_result"
    }
   ],
   "source": [
    "# Lets check the correlation matrix\n",
    "pd.concat([df_input,df_target],axis=1).corr()\n",
    "# From below it visible that most of vthe feature have week correlation with target and only some are around 0.5"
   ]
  },
  {
   "cell_type": "code",
   "execution_count": 6,
   "metadata": {},
   "outputs": [
    {
     "data": {
      "text/html": [
       "<div>\n",
       "<style scoped>\n",
       "    .dataframe tbody tr th:only-of-type {\n",
       "        vertical-align: middle;\n",
       "    }\n",
       "\n",
       "    .dataframe tbody tr th {\n",
       "        vertical-align: top;\n",
       "    }\n",
       "\n",
       "    .dataframe thead th {\n",
       "        text-align: right;\n",
       "    }\n",
       "</style>\n",
       "<table border=\"1\" class=\"dataframe\">\n",
       "  <thead>\n",
       "    <tr style=\"text-align: right;\">\n",
       "      <th></th>\n",
       "      <th>age</th>\n",
       "      <th>sex</th>\n",
       "      <th>bmi</th>\n",
       "      <th>bp</th>\n",
       "      <th>s1</th>\n",
       "      <th>s2</th>\n",
       "      <th>s3</th>\n",
       "      <th>s4</th>\n",
       "      <th>s5</th>\n",
       "      <th>s6</th>\n",
       "      <th>DiseaseProgression</th>\n",
       "    </tr>\n",
       "  </thead>\n",
       "  <tbody>\n",
       "    <tr>\n",
       "      <th>count</th>\n",
       "      <td>4.420000e+02</td>\n",
       "      <td>4.420000e+02</td>\n",
       "      <td>4.420000e+02</td>\n",
       "      <td>4.420000e+02</td>\n",
       "      <td>4.420000e+02</td>\n",
       "      <td>4.420000e+02</td>\n",
       "      <td>4.420000e+02</td>\n",
       "      <td>4.420000e+02</td>\n",
       "      <td>4.420000e+02</td>\n",
       "      <td>4.420000e+02</td>\n",
       "      <td>442.000000</td>\n",
       "    </tr>\n",
       "    <tr>\n",
       "      <th>mean</th>\n",
       "      <td>-3.634285e-16</td>\n",
       "      <td>1.308343e-16</td>\n",
       "      <td>-8.045349e-16</td>\n",
       "      <td>1.281655e-16</td>\n",
       "      <td>-8.835316e-17</td>\n",
       "      <td>1.327024e-16</td>\n",
       "      <td>-4.574646e-16</td>\n",
       "      <td>3.777301e-16</td>\n",
       "      <td>-3.830854e-16</td>\n",
       "      <td>-3.412882e-16</td>\n",
       "      <td>152.133484</td>\n",
       "    </tr>\n",
       "    <tr>\n",
       "      <th>std</th>\n",
       "      <td>4.761905e-02</td>\n",
       "      <td>4.761905e-02</td>\n",
       "      <td>4.761905e-02</td>\n",
       "      <td>4.761905e-02</td>\n",
       "      <td>4.761905e-02</td>\n",
       "      <td>4.761905e-02</td>\n",
       "      <td>4.761905e-02</td>\n",
       "      <td>4.761905e-02</td>\n",
       "      <td>4.761905e-02</td>\n",
       "      <td>4.761905e-02</td>\n",
       "      <td>77.093005</td>\n",
       "    </tr>\n",
       "    <tr>\n",
       "      <th>min</th>\n",
       "      <td>-1.072256e-01</td>\n",
       "      <td>-4.464164e-02</td>\n",
       "      <td>-9.027530e-02</td>\n",
       "      <td>-1.123996e-01</td>\n",
       "      <td>-1.267807e-01</td>\n",
       "      <td>-1.156131e-01</td>\n",
       "      <td>-1.023071e-01</td>\n",
       "      <td>-7.639450e-02</td>\n",
       "      <td>-1.260974e-01</td>\n",
       "      <td>-1.377672e-01</td>\n",
       "      <td>25.000000</td>\n",
       "    </tr>\n",
       "    <tr>\n",
       "      <th>25%</th>\n",
       "      <td>-3.729927e-02</td>\n",
       "      <td>-4.464164e-02</td>\n",
       "      <td>-3.422907e-02</td>\n",
       "      <td>-3.665645e-02</td>\n",
       "      <td>-3.424784e-02</td>\n",
       "      <td>-3.035840e-02</td>\n",
       "      <td>-3.511716e-02</td>\n",
       "      <td>-3.949338e-02</td>\n",
       "      <td>-3.324879e-02</td>\n",
       "      <td>-3.317903e-02</td>\n",
       "      <td>87.000000</td>\n",
       "    </tr>\n",
       "    <tr>\n",
       "      <th>50%</th>\n",
       "      <td>5.383060e-03</td>\n",
       "      <td>-4.464164e-02</td>\n",
       "      <td>-7.283766e-03</td>\n",
       "      <td>-5.670611e-03</td>\n",
       "      <td>-4.320866e-03</td>\n",
       "      <td>-3.819065e-03</td>\n",
       "      <td>-6.584468e-03</td>\n",
       "      <td>-2.592262e-03</td>\n",
       "      <td>-1.947634e-03</td>\n",
       "      <td>-1.077698e-03</td>\n",
       "      <td>140.500000</td>\n",
       "    </tr>\n",
       "    <tr>\n",
       "      <th>75%</th>\n",
       "      <td>3.807591e-02</td>\n",
       "      <td>5.068012e-02</td>\n",
       "      <td>3.124802e-02</td>\n",
       "      <td>3.564384e-02</td>\n",
       "      <td>2.835801e-02</td>\n",
       "      <td>2.984439e-02</td>\n",
       "      <td>2.931150e-02</td>\n",
       "      <td>3.430886e-02</td>\n",
       "      <td>3.243323e-02</td>\n",
       "      <td>2.791705e-02</td>\n",
       "      <td>211.500000</td>\n",
       "    </tr>\n",
       "    <tr>\n",
       "      <th>max</th>\n",
       "      <td>1.107267e-01</td>\n",
       "      <td>5.068012e-02</td>\n",
       "      <td>1.705552e-01</td>\n",
       "      <td>1.320442e-01</td>\n",
       "      <td>1.539137e-01</td>\n",
       "      <td>1.987880e-01</td>\n",
       "      <td>1.811791e-01</td>\n",
       "      <td>1.852344e-01</td>\n",
       "      <td>1.335990e-01</td>\n",
       "      <td>1.356118e-01</td>\n",
       "      <td>346.000000</td>\n",
       "    </tr>\n",
       "  </tbody>\n",
       "</table>\n",
       "</div>"
      ],
      "text/plain": [
       "                age           sex           bmi            bp            s1  \\\n",
       "count  4.420000e+02  4.420000e+02  4.420000e+02  4.420000e+02  4.420000e+02   \n",
       "mean  -3.634285e-16  1.308343e-16 -8.045349e-16  1.281655e-16 -8.835316e-17   \n",
       "std    4.761905e-02  4.761905e-02  4.761905e-02  4.761905e-02  4.761905e-02   \n",
       "min   -1.072256e-01 -4.464164e-02 -9.027530e-02 -1.123996e-01 -1.267807e-01   \n",
       "25%   -3.729927e-02 -4.464164e-02 -3.422907e-02 -3.665645e-02 -3.424784e-02   \n",
       "50%    5.383060e-03 -4.464164e-02 -7.283766e-03 -5.670611e-03 -4.320866e-03   \n",
       "75%    3.807591e-02  5.068012e-02  3.124802e-02  3.564384e-02  2.835801e-02   \n",
       "max    1.107267e-01  5.068012e-02  1.705552e-01  1.320442e-01  1.539137e-01   \n",
       "\n",
       "                 s2            s3            s4            s5            s6  \\\n",
       "count  4.420000e+02  4.420000e+02  4.420000e+02  4.420000e+02  4.420000e+02   \n",
       "mean   1.327024e-16 -4.574646e-16  3.777301e-16 -3.830854e-16 -3.412882e-16   \n",
       "std    4.761905e-02  4.761905e-02  4.761905e-02  4.761905e-02  4.761905e-02   \n",
       "min   -1.156131e-01 -1.023071e-01 -7.639450e-02 -1.260974e-01 -1.377672e-01   \n",
       "25%   -3.035840e-02 -3.511716e-02 -3.949338e-02 -3.324879e-02 -3.317903e-02   \n",
       "50%   -3.819065e-03 -6.584468e-03 -2.592262e-03 -1.947634e-03 -1.077698e-03   \n",
       "75%    2.984439e-02  2.931150e-02  3.430886e-02  3.243323e-02  2.791705e-02   \n",
       "max    1.987880e-01  1.811791e-01  1.852344e-01  1.335990e-01  1.356118e-01   \n",
       "\n",
       "       DiseaseProgression  \n",
       "count          442.000000  \n",
       "mean           152.133484  \n",
       "std             77.093005  \n",
       "min             25.000000  \n",
       "25%             87.000000  \n",
       "50%            140.500000  \n",
       "75%            211.500000  \n",
       "max            346.000000  "
      ]
     },
     "execution_count": 6,
     "metadata": {},
     "output_type": "execute_result"
    }
   ],
   "source": [
    "# Lets describe the datasets\n",
    "pd.concat([df_input,df_target],axis=1).describe()\n"
   ]
  },
  {
   "cell_type": "code",
   "execution_count": 8,
   "metadata": {},
   "outputs": [
    {
     "name": "stdout",
     "output_type": "stream",
     "text": [
      "(430, 11)\n"
     ]
    }
   ],
   "source": [
    "# Lets check foroutliers using zscore \n",
    "from scipy.stats import zscore\n",
    "df_combined=pd.concat([df_input,df_target],axis=1)\n",
    "z_scr=zscore(df_combined)\n",
    "df_combined_new=df_combined.loc[(abs(z_scr)<3).all(axis=1)]\n",
    "print(df_combined_new.shape)\n",
    "# From below output it is clear that some outliers were there and now those are removed"
   ]
  },
  {
   "cell_type": "code",
   "execution_count": 9,
   "metadata": {},
   "outputs": [],
   "source": [
    "# Seprating input and output from df_combined_new\n",
    "df_x=df_combined_new.drop(columns=['DiseaseProgression'])\n",
    "y=df_combined_new[['DiseaseProgression']]"
   ]
  },
  {
   "cell_type": "code",
   "execution_count": 16,
   "metadata": {},
   "outputs": [],
   "source": [
    "from sklearn.metrics import mean_absolute_error\n",
    "from sklearn.metrics import mean_squared_error\n",
    "from sklearn.metrics import r2_score\n",
    "from sklearn.model_selection import train_test_split\n",
    "def maxr2_score(regr,df_x,y):\n",
    "    max_r_score=0\n",
    "    for r_state in range(42,100):\n",
    "        x_train,x_test,y_train,y_test=train_test_split(df_x,y,random_state=r_state,test_size=0.20)\n",
    "        regr.fit(x_train,y_train)\n",
    "        y_pred= regr.predict(x_test)\n",
    "        r2_scr=r2_score(y_test,y_pred)\n",
    "        print('r2 score corresponding to',r_state,'is',r2_scr)\n",
    "        if r2_scr>max_r_score:\n",
    "            max_r_score=r2_scr\n",
    "            final_r_state= r_state\n",
    "    print('max r2 score corresponding to',final_r_state,'is',max_r_score)\n",
    "    return final_r_state"
   ]
  },
  {
   "cell_type": "code",
   "execution_count": 18,
   "metadata": {},
   "outputs": [
    {
     "name": "stdout",
     "output_type": "stream",
     "text": [
      "r2 score corresponding to 42 is 0.3666696589544701\n",
      "r2 score corresponding to 43 is 0.5414633719716158\n",
      "r2 score corresponding to 44 is 0.5028302023948108\n",
      "r2 score corresponding to 45 is 0.41940208977825466\n",
      "r2 score corresponding to 46 is 0.49944594921344987\n",
      "r2 score corresponding to 47 is 0.5696168464053883\n",
      "r2 score corresponding to 48 is 0.489416147899261\n",
      "r2 score corresponding to 49 is 0.4157614115642506\n",
      "r2 score corresponding to 50 is 0.5113404267738513\n",
      "r2 score corresponding to 51 is 0.2535390423428264\n",
      "r2 score corresponding to 52 is 0.6129709896007236\n",
      "r2 score corresponding to 53 is 0.41643342507750947\n",
      "r2 score corresponding to 54 is 0.5374683464284009\n",
      "r2 score corresponding to 55 is 0.48857235252489806\n",
      "r2 score corresponding to 56 is 0.31394754546793047\n",
      "r2 score corresponding to 57 is 0.3987795821170862\n",
      "r2 score corresponding to 58 is 0.5386412864690377\n",
      "r2 score corresponding to 59 is 0.439990482153117\n",
      "r2 score corresponding to 60 is 0.47232409291236555\n",
      "r2 score corresponding to 61 is 0.6030766739407363\n",
      "r2 score corresponding to 62 is 0.3285727377843908\n",
      "r2 score corresponding to 63 is 0.37097761244405225\n",
      "r2 score corresponding to 64 is 0.4781873297146565\n",
      "r2 score corresponding to 65 is 0.42403073307148276\n",
      "r2 score corresponding to 66 is 0.3452313596803763\n",
      "r2 score corresponding to 67 is 0.5211022173934448\n",
      "r2 score corresponding to 68 is 0.4660328632026336\n",
      "r2 score corresponding to 69 is 0.5993215324789298\n",
      "r2 score corresponding to 70 is 0.5891081514574839\n",
      "r2 score corresponding to 71 is 0.4725769890003353\n",
      "r2 score corresponding to 72 is 0.46507039409121165\n",
      "r2 score corresponding to 73 is 0.4516693884290638\n",
      "r2 score corresponding to 74 is 0.5042728258045484\n",
      "r2 score corresponding to 75 is 0.47811967985500126\n",
      "r2 score corresponding to 76 is 0.45568279714616466\n",
      "r2 score corresponding to 77 is 0.5085873212683412\n",
      "r2 score corresponding to 78 is 0.3640734581468631\n",
      "r2 score corresponding to 79 is 0.3725541958099976\n",
      "r2 score corresponding to 80 is 0.5236724939758376\n",
      "r2 score corresponding to 81 is 0.4253354835748894\n",
      "r2 score corresponding to 82 is 0.3184007972046091\n",
      "r2 score corresponding to 83 is 0.3907007778975967\n",
      "r2 score corresponding to 84 is 0.5327667583770852\n",
      "r2 score corresponding to 85 is 0.4276220530690751\n",
      "r2 score corresponding to 86 is 0.5115984646910832\n",
      "r2 score corresponding to 87 is 0.47235843438178293\n",
      "r2 score corresponding to 88 is 0.46325086683481775\n",
      "r2 score corresponding to 89 is 0.47018075614493227\n",
      "r2 score corresponding to 90 is 0.4278924943358342\n",
      "r2 score corresponding to 91 is 0.5349020780910555\n",
      "r2 score corresponding to 92 is 0.5351907235215828\n",
      "r2 score corresponding to 93 is 0.4305272840548283\n",
      "r2 score corresponding to 94 is 0.46589277598171597\n",
      "r2 score corresponding to 95 is 0.4276807654980973\n",
      "r2 score corresponding to 96 is 0.48252164426074473\n",
      "r2 score corresponding to 97 is 0.5450125036671556\n",
      "r2 score corresponding to 98 is 0.43828298121112064\n",
      "r2 score corresponding to 99 is 0.6269516531714291\n",
      "max r2 score corresponding to 99 is 0.6269516531714291\n"
     ]
    }
   ],
   "source": [
    "# Lets use linear regression and check maxr2 score corresponding to different random state\n",
    "from sklearn.linear_model import LinearRegression\n",
    "lreg=LinearRegression()\n",
    "r_state= maxr2_score(lreg,df_x,y)"
   ]
  },
  {
   "cell_type": "code",
   "execution_count": 19,
   "metadata": {},
   "outputs": [
    {
     "data": {
      "text/plain": [
       "{'n_neighbors': 19}"
      ]
     },
     "execution_count": 19,
     "metadata": {},
     "output_type": "execute_result"
    }
   ],
   "source": [
    "# Lets use grid_search to find optimal value of n_neigbors for KNN model\n",
    "from sklearn.model_selection import GridSearchCV\n",
    "from sklearn.neighbors import KNeighborsRegressor\n",
    "neighbors= {'n_neighbors':range(1,30)}\n",
    "knr=KNeighborsRegressor()\n",
    "gknr=GridSearchCV(knr,neighbors, cv=10)\n",
    "gknr.fit(df_x,y)\n",
    "gknr.best_params_"
   ]
  },
  {
   "cell_type": "code",
   "execution_count": 20,
   "metadata": {},
   "outputs": [
    {
     "name": "stdout",
     "output_type": "stream",
     "text": [
      "r2 score corresponding to 42 is 0.3754639421781797\n",
      "r2 score corresponding to 43 is 0.4850176749925311\n",
      "r2 score corresponding to 44 is 0.5070124907462026\n",
      "r2 score corresponding to 45 is 0.34696634001528726\n",
      "r2 score corresponding to 46 is 0.451542905441379\n",
      "r2 score corresponding to 47 is 0.4895196971602195\n",
      "r2 score corresponding to 48 is 0.4958809239179024\n",
      "r2 score corresponding to 49 is 0.42630690730410414\n",
      "r2 score corresponding to 50 is 0.45313119612132746\n",
      "r2 score corresponding to 51 is 0.2678001378172621\n",
      "r2 score corresponding to 52 is 0.5358847489904657\n",
      "r2 score corresponding to 53 is 0.4586727843601762\n",
      "r2 score corresponding to 54 is 0.46474045120456287\n",
      "r2 score corresponding to 55 is 0.41518128514327657\n",
      "r2 score corresponding to 56 is 0.33146594793420947\n",
      "r2 score corresponding to 57 is 0.41031633084078845\n",
      "r2 score corresponding to 58 is 0.5402584419605948\n",
      "r2 score corresponding to 59 is 0.42953599823241373\n",
      "r2 score corresponding to 60 is 0.46738745945600657\n",
      "r2 score corresponding to 61 is 0.5553079262704815\n",
      "r2 score corresponding to 62 is 0.33066066702607766\n",
      "r2 score corresponding to 63 is 0.3783895137967106\n",
      "r2 score corresponding to 64 is 0.48421379326260394\n",
      "r2 score corresponding to 65 is 0.44261746471618224\n",
      "r2 score corresponding to 66 is 0.2698653959802415\n",
      "r2 score corresponding to 67 is 0.36908453542069697\n",
      "r2 score corresponding to 68 is 0.4394873343265039\n",
      "r2 score corresponding to 69 is 0.5187953839385533\n",
      "r2 score corresponding to 70 is 0.5208596450734551\n",
      "r2 score corresponding to 71 is 0.4167489822309206\n",
      "r2 score corresponding to 72 is 0.39331922475442993\n",
      "r2 score corresponding to 73 is 0.43251087373979524\n",
      "r2 score corresponding to 74 is 0.5170866920482625\n",
      "r2 score corresponding to 75 is 0.4478426348533341\n",
      "r2 score corresponding to 76 is 0.4339141161652411\n",
      "r2 score corresponding to 77 is 0.41530671180657985\n",
      "r2 score corresponding to 78 is 0.42243925700111273\n",
      "r2 score corresponding to 79 is 0.3505917019162451\n",
      "r2 score corresponding to 80 is 0.4245561118826796\n",
      "r2 score corresponding to 81 is 0.34241234907433316\n",
      "r2 score corresponding to 82 is 0.38038532749795073\n",
      "r2 score corresponding to 83 is 0.397615256396471\n",
      "r2 score corresponding to 84 is 0.4114107020200227\n",
      "r2 score corresponding to 85 is 0.4874359343901714\n",
      "r2 score corresponding to 86 is 0.471843473823647\n",
      "r2 score corresponding to 87 is 0.475164354198919\n",
      "r2 score corresponding to 88 is 0.37825637663616063\n",
      "r2 score corresponding to 89 is 0.4121324563017762\n",
      "r2 score corresponding to 90 is 0.43964228007857065\n",
      "r2 score corresponding to 91 is 0.4851635167156674\n",
      "r2 score corresponding to 92 is 0.4902993334212776\n",
      "r2 score corresponding to 93 is 0.41204732125202204\n",
      "r2 score corresponding to 94 is 0.447939845627653\n",
      "r2 score corresponding to 95 is 0.372989497860159\n",
      "r2 score corresponding to 96 is 0.4798458335710769\n",
      "r2 score corresponding to 97 is 0.4558562085206812\n",
      "r2 score corresponding to 98 is 0.4429255304005809\n",
      "r2 score corresponding to 99 is 0.5372893665697835\n",
      "max r2 score corresponding to 61 is 0.5553079262704815\n"
     ]
    }
   ],
   "source": [
    "# Lets use KNN regression and check max r2 score corresponding to different random state\n",
    "knr=KNeighborsRegressor(n_neighbors=19)\n",
    "r_state=maxr2_score(knr,df_x,y)"
   ]
  },
  {
   "cell_type": "code",
   "execution_count": 22,
   "metadata": {},
   "outputs": [
    {
     "name": "stdout",
     "output_type": "stream",
     "text": [
      "Mean r2 score for Linear Regression: 0.4676911221693185\n",
      "Standard deviatiion in r2 score for Linear Regression: 0.05595217785841951\n",
      "\n",
      "Mean r2 score for KNN Regression: 0.4447393304649888\n",
      "Standard deviation in r2 score for KNN Regression: 0.06885364198445655\n"
     ]
    }
   ],
   "source": [
    "# Lets check the mean r2_score of both Linear regression model and knn regression\n",
    "from sklearn.model_selection import cross_val_score\n",
    "print('Mean r2 score for Linear Regression:',cross_val_score(lreg,df_x,y,cv=5,scoring='r2').mean())\n",
    "print('Standard deviatiion in r2 score for Linear Regression:',cross_val_score(lreg,df_x,y,cv=5,scoring='r2').std())\n",
    "print()\n",
    "print('Mean r2 score for KNN Regression:',cross_val_score(knr,df_x,y,cv=5,scoring='r2').mean())\n",
    "print('Standard deviation in r2 score for KNN Regression:',cross_val_score(knr,df_x,y,cv=5,scoring='r2').std())\n",
    "# Based on below output linear Regression is performing well"
   ]
  },
  {
   "cell_type": "code",
   "execution_count": 24,
   "metadata": {},
   "outputs": [
    {
     "data": {
      "text/plain": [
       "{'alpha': 0.1}"
      ]
     },
     "execution_count": 24,
     "metadata": {},
     "output_type": "execute_result"
    }
   ],
   "source": [
    "# Lets check Lasso regression and find best value of alpha\n",
    "from sklearn.linear_model import Lasso\n",
    "lsreg=Lasso()\n",
    "parameters={'alpha':[0.001,0.01,0.1,1]}\n",
    "clf=GridSearchCV(lsreg,parameters,cv=10)\n",
    "clf.fit(df_x,y)\n",
    "clf.best_params_"
   ]
  },
  {
   "cell_type": "code",
   "execution_count": 25,
   "metadata": {},
   "outputs": [
    {
     "name": "stdout",
     "output_type": "stream",
     "text": [
      "r2 score corresponding to 42 is 0.39559614133403787\n",
      "r2 score corresponding to 43 is 0.5279704191720399\n",
      "r2 score corresponding to 44 is 0.50503294565865\n",
      "r2 score corresponding to 45 is 0.40361967977614077\n",
      "r2 score corresponding to 46 is 0.5035821455123144\n",
      "r2 score corresponding to 47 is 0.5557723339863485\n",
      "r2 score corresponding to 48 is 0.4951902457271491\n",
      "r2 score corresponding to 49 is 0.41898867700436127\n",
      "r2 score corresponding to 50 is 0.4841336844871693\n",
      "r2 score corresponding to 51 is 0.2705971586987356\n",
      "r2 score corresponding to 52 is 0.5965279705889219\n",
      "r2 score corresponding to 53 is 0.4227011451196119\n",
      "r2 score corresponding to 54 is 0.514897039321015\n",
      "r2 score corresponding to 55 is 0.4921979652112449\n",
      "r2 score corresponding to 56 is 0.3249514143291744\n",
      "r2 score corresponding to 57 is 0.41824855781541936\n",
      "r2 score corresponding to 58 is 0.5438396084200854\n",
      "r2 score corresponding to 59 is 0.44859182287998944\n",
      "r2 score corresponding to 60 is 0.4998521969434332\n",
      "r2 score corresponding to 61 is 0.5946436513155506\n",
      "r2 score corresponding to 62 is 0.3292015646228238\n",
      "r2 score corresponding to 63 is 0.366514810681454\n",
      "r2 score corresponding to 64 is 0.4886841889561808\n",
      "r2 score corresponding to 65 is 0.4243759279884286\n",
      "r2 score corresponding to 66 is 0.3558024076403584\n",
      "r2 score corresponding to 67 is 0.49659168019338973\n",
      "r2 score corresponding to 68 is 0.4610847398975164\n",
      "r2 score corresponding to 69 is 0.5728238404592398\n",
      "r2 score corresponding to 70 is 0.5743121261219554\n",
      "r2 score corresponding to 71 is 0.4495485781705931\n",
      "r2 score corresponding to 72 is 0.4629130249893434\n",
      "r2 score corresponding to 73 is 0.46881687014165185\n",
      "r2 score corresponding to 74 is 0.4959419828959618\n",
      "r2 score corresponding to 75 is 0.4797666406182508\n",
      "r2 score corresponding to 76 is 0.4554730925472029\n",
      "r2 score corresponding to 77 is 0.4794757306005857\n",
      "r2 score corresponding to 78 is 0.36964302184106534\n",
      "r2 score corresponding to 79 is 0.37585626273279515\n",
      "r2 score corresponding to 80 is 0.5104689802704394\n",
      "r2 score corresponding to 81 is 0.4217938349296846\n",
      "r2 score corresponding to 82 is 0.3899368754484932\n",
      "r2 score corresponding to 83 is 0.40682839935367054\n",
      "r2 score corresponding to 84 is 0.5065218361430214\n",
      "r2 score corresponding to 85 is 0.44823689701050684\n",
      "r2 score corresponding to 86 is 0.5100453740518435\n",
      "r2 score corresponding to 87 is 0.4680572800564161\n",
      "r2 score corresponding to 88 is 0.45812129482646613\n",
      "r2 score corresponding to 89 is 0.47086258108514234\n",
      "r2 score corresponding to 90 is 0.4115773586895217\n",
      "r2 score corresponding to 91 is 0.5272547222803922\n",
      "r2 score corresponding to 92 is 0.5220636016263058\n",
      "r2 score corresponding to 93 is 0.43594244047480246\n",
      "r2 score corresponding to 94 is 0.4822746405544437\n",
      "r2 score corresponding to 95 is 0.40475836442100754\n",
      "r2 score corresponding to 96 is 0.4807202490141723\n",
      "r2 score corresponding to 97 is 0.5373235191356918\n",
      "r2 score corresponding to 98 is 0.4364630009575615\n",
      "r2 score corresponding to 99 is 0.5997275247178084\n",
      "max r2 score corresponding to 99 is 0.5997275247178084\n"
     ]
    }
   ],
   "source": [
    "# Lets check max r2 score when we use Lasso\n",
    "lsreg=Lasso(alpha=0.1)\n",
    "r_state=maxr2_score(lsreg,df_x,y)"
   ]
  },
  {
   "cell_type": "code",
   "execution_count": 30,
   "metadata": {},
   "outputs": [
    {
     "name": "stdout",
     "output_type": "stream",
     "text": [
      "Mean r2 score for Lasso Regression: 0.4668358456202258\n",
      "Standard deviation in r2 score for Lasso Regression: 0.05024883603439511\n"
     ]
    }
   ],
   "source": [
    "# Lets use cross val score with Lasso\n",
    "print('Mean r2 score for Lasso Regression:',cross_val_score(lsreg,df_x,y,cv=5,scoring='r2').mean())\n",
    "print('Standard deviation in r2 score for Lasso Regression:',cross_val_score(lsreg,df_x,y,cv=5,scoring='r2').std())\n",
    "# Based on below output i can say lasso performed just like Linear Regression"
   ]
  },
  {
   "cell_type": "code",
   "execution_count": 33,
   "metadata": {},
   "outputs": [
    {
     "data": {
      "text/plain": [
       "{'learning_rate': 0.01, 'n_estimators': 500}"
      ]
     },
     "execution_count": 33,
     "metadata": {},
     "output_type": "execute_result"
    }
   ],
   "source": [
    "# now we will try to use gradient boosting technique\n",
    "# for getting best set of parameters we will use grid search\n",
    "from sklearn.ensemble import GradientBoostingRegressor\n",
    "import warnings\n",
    "warnings.filterwarnings('ignore')\n",
    "gbr=GradientBoostingRegressor()\n",
    "parameters={'learning_rate':[0.001,0.01,0.1,1],'n_estimators':[10,100,500,1000]}\n",
    "clf= GridSearchCV(gbr,parameters,cv=5)\n",
    "clf.fit(df_x,y)\n",
    "clf.best_params_"
   ]
  },
  {
   "cell_type": "code",
   "execution_count": 34,
   "metadata": {},
   "outputs": [
    {
     "name": "stdout",
     "output_type": "stream",
     "text": [
      "Mean r2 score for gradient boosting Regression: 0.4085285439473111\n",
      "standard deviation in r2 score for Gradient Boosting Regression: 0.0752308478147571\n"
     ]
    }
   ],
   "source": [
    "# Now we will use cross val score to check the mean r2 score and standard deviation\n",
    "gbr=GradientBoostingRegressor(learning_rate=0.01,n_estimators=500)\n",
    "print('Mean r2 score for gradient boosting Regression:',cross_val_score(gbr,df_x,y,cv=5,scoring='r2').mean())\n",
    "print('standard deviation in r2 score for Gradient Boosting Regression:',cross_val_score(gbr,df_x,y,cv=5,scoring='r2').std())"
   ]
  },
  {
   "cell_type": "code",
   "execution_count": 36,
   "metadata": {},
   "outputs": [
    {
     "data": {
      "text/plain": [
       "{'base_estimator': LinearRegression(copy_X=True, fit_intercept=True, n_jobs=None, normalize=False),\n",
       " 'learning_rate': 0.01,\n",
       " 'n_estimators': 100}"
      ]
     },
     "execution_count": 36,
     "metadata": {},
     "output_type": "execute_result"
    }
   ],
   "source": [
    "# now Lets use add boost regression algorithm \n",
    "from sklearn.ensemble import AdaBoostRegressor\n",
    "from sklearn.tree import DecisionTreeRegressor\n",
    "ada_reg=AdaBoostRegressor()\n",
    "parameters={'learning_rate':[0.001,0.01,0.1,1],'n_estimators':[10,100,500,1000],'base_estimator':[lreg,lsreg,DecisionTreeRegressor()]}\n",
    "clf=GridSearchCV(ada_reg,parameters,cv=5)\n",
    "clf.fit(df_x,y)\n",
    "clf.best_params_"
   ]
  },
  {
   "cell_type": "code",
   "execution_count": 37,
   "metadata": {},
   "outputs": [
    {
     "name": "stdout",
     "output_type": "stream",
     "text": [
      "Mean r2 score for Ada Boosting regression: 0.46691002065355197\n",
      "Standard deviation in r2 score for ada Boosting Regression: 0.050200034827851334\n"
     ]
    }
   ],
   "source": [
    "ada_reg=AdaBoostRegressor(base_estimator=lsreg,learning_rate=0.001,n_estimators=100)\n",
    "print('Mean r2 score for Ada Boosting regression:',cross_val_score(ada_reg,df_x,y,cv=5,scoring='r2').mean())\n",
    "print('Standard deviation in r2 score for ada Boosting Regression:',cross_val_score(ada_reg,df_x,y,cv=5,scoring='r2').std())"
   ]
  },
  {
   "cell_type": "code",
   "execution_count": 38,
   "metadata": {},
   "outputs": [
    {
     "name": "stdout",
     "output_type": "stream",
     "text": [
      "r2 score corresponding to 42 is 0.39637812687426\n",
      "r2 score corresponding to 43 is 0.5323227366966515\n",
      "r2 score corresponding to 44 is 0.510077019248199\n",
      "r2 score corresponding to 45 is 0.4070483956352876\n",
      "r2 score corresponding to 46 is 0.5032602308161429\n",
      "r2 score corresponding to 47 is 0.5617237019345656\n",
      "r2 score corresponding to 48 is 0.49894716430752206\n",
      "r2 score corresponding to 49 is 0.42143459531068295\n",
      "r2 score corresponding to 50 is 0.4913467850569432\n",
      "r2 score corresponding to 51 is 0.271143701528037\n",
      "r2 score corresponding to 52 is 0.5992572646811488\n",
      "r2 score corresponding to 53 is 0.4181154887186944\n",
      "r2 score corresponding to 54 is 0.512515963631031\n",
      "r2 score corresponding to 55 is 0.49307549090856073\n",
      "r2 score corresponding to 56 is 0.3223358362826807\n",
      "r2 score corresponding to 57 is 0.4159933361100264\n",
      "r2 score corresponding to 58 is 0.540537800843643\n",
      "r2 score corresponding to 59 is 0.4451135083463278\n",
      "r2 score corresponding to 60 is 0.49743586511877025\n",
      "r2 score corresponding to 61 is 0.589588058921079\n",
      "r2 score corresponding to 62 is 0.33297127486560074\n",
      "r2 score corresponding to 63 is 0.3629355604756136\n",
      "r2 score corresponding to 64 is 0.4898572898715329\n",
      "r2 score corresponding to 65 is 0.42765096851802964\n",
      "r2 score corresponding to 66 is 0.3517604863089756\n",
      "r2 score corresponding to 67 is 0.4977844878664197\n",
      "r2 score corresponding to 68 is 0.4634124262948264\n",
      "r2 score corresponding to 69 is 0.5727145572420617\n",
      "r2 score corresponding to 70 is 0.5783357489427753\n",
      "r2 score corresponding to 71 is 0.4524417072195147\n",
      "r2 score corresponding to 72 is 0.4599212597067497\n",
      "r2 score corresponding to 73 is 0.46946516416059836\n",
      "r2 score corresponding to 74 is 0.4943942219742604\n",
      "r2 score corresponding to 75 is 0.48258695404278296\n",
      "r2 score corresponding to 76 is 0.4570358450688309\n",
      "r2 score corresponding to 77 is 0.48207261074153496\n",
      "r2 score corresponding to 78 is 0.3711737749607281\n",
      "r2 score corresponding to 79 is 0.38116734465355373\n",
      "r2 score corresponding to 80 is 0.5109172440270986\n",
      "r2 score corresponding to 81 is 0.41641097814739725\n",
      "r2 score corresponding to 82 is 0.3840743256485656\n",
      "r2 score corresponding to 83 is 0.40899967167355944\n",
      "r2 score corresponding to 84 is 0.5081834102607107\n",
      "r2 score corresponding to 85 is 0.4463723219079502\n",
      "r2 score corresponding to 86 is 0.5122034138477303\n",
      "r2 score corresponding to 87 is 0.4660464742342305\n",
      "r2 score corresponding to 88 is 0.45392197625879616\n",
      "r2 score corresponding to 89 is 0.468698382412462\n",
      "r2 score corresponding to 90 is 0.407616654095333\n",
      "r2 score corresponding to 91 is 0.5273612645217046\n",
      "r2 score corresponding to 92 is 0.5261635037470834\n",
      "r2 score corresponding to 93 is 0.4387724935870202\n",
      "r2 score corresponding to 94 is 0.48429066000742704\n",
      "r2 score corresponding to 95 is 0.40778600858693625\n",
      "r2 score corresponding to 96 is 0.48144328948472925\n",
      "r2 score corresponding to 97 is 0.5379886068678175\n",
      "r2 score corresponding to 98 is 0.44050922962054095\n",
      "r2 score corresponding to 99 is 0.60029881987957\n",
      "max r2 score corresponding to 99 is 0.60029881987957\n"
     ]
    }
   ],
   "source": [
    "# Lets check maximum r2 score corresponding to this\n",
    "r_state=maxr2_score(ada_reg,df_x,y)"
   ]
  },
  {
   "cell_type": "code",
   "execution_count": 39,
   "metadata": {},
   "outputs": [],
   "source": [
    "# We tried the models and till now linear regression in the best\n",
    "# random state corresponding to higest r2 score is 99\n",
    "x_train,x_test,y_train,y_test=train_test_split(df_x,y,random_state=99,test_size=0.20)\n",
    "lreg=LinearRegression()\n",
    "lreg.fit(x_train,y_train)\n",
    "y_pred=lreg.predict(x_test)"
   ]
  },
  {
   "cell_type": "code",
   "execution_count": 41,
   "metadata": {},
   "outputs": [
    {
     "name": "stdout",
     "output_type": "stream",
     "text": [
      "RMSE is: 48.95593018443329\n",
      "r2_score is: 0.6269516531714291\n"
     ]
    }
   ],
   "source": [
    "# Lets find the rsme and r2 score using sklearn.metrics\n",
    "import numpy as np\n",
    "from sklearn.metrics import r2_score\n",
    "from sklearn.metrics import mean_squared_error\n",
    "print('RMSE is:',np.sqrt(mean_squared_error(y_test,y_pred)))\n",
    "print('r2_score is:',r2_score(y_test,y_pred))"
   ]
  },
  {
   "cell_type": "code",
   "execution_count": 42,
   "metadata": {},
   "outputs": [
    {
     "data": {
      "text/plain": [
       "['diabetes_prog_lreg.pkl']"
      ]
     },
     "execution_count": 42,
     "metadata": {},
     "output_type": "execute_result"
    }
   ],
   "source": [
    "from sklearn.externals import joblib\n",
    "# Save the model as a pickle in a file\n",
    "joblib.dump(lreg,'diabetes_prog_lreg.pkl')"
   ]
  },
  {
   "cell_type": "markdown",
   "metadata": {},
   "source": [
    "# Bank Note"
   ]
  },
  {
   "cell_type": "code",
   "execution_count": 43,
   "metadata": {},
   "outputs": [],
   "source": [
    "import numpy as np\n",
    "import pandas as pd\n",
    "import seaborn as sns\n",
    "import matplotlib.pyplot as plt\n",
    "import warnings\n",
    "warnings.filterwarnings('ignore')"
   ]
  },
  {
   "cell_type": "code",
   "execution_count": 44,
   "metadata": {},
   "outputs": [],
   "source": [
    "df=pd.read_csv('banknote.csv')"
   ]
  },
  {
   "cell_type": "code",
   "execution_count": 45,
   "metadata": {},
   "outputs": [
    {
     "data": {
      "text/html": [
       "<div>\n",
       "<style scoped>\n",
       "    .dataframe tbody tr th:only-of-type {\n",
       "        vertical-align: middle;\n",
       "    }\n",
       "\n",
       "    .dataframe tbody tr th {\n",
       "        vertical-align: top;\n",
       "    }\n",
       "\n",
       "    .dataframe thead th {\n",
       "        text-align: right;\n",
       "    }\n",
       "</style>\n",
       "<table border=\"1\" class=\"dataframe\">\n",
       "  <thead>\n",
       "    <tr style=\"text-align: right;\">\n",
       "      <th></th>\n",
       "      <th>variance</th>\n",
       "      <th>skewness</th>\n",
       "      <th>curtosis</th>\n",
       "      <th>entropy</th>\n",
       "      <th>class</th>\n",
       "    </tr>\n",
       "  </thead>\n",
       "  <tbody>\n",
       "    <tr>\n",
       "      <th>0</th>\n",
       "      <td>3.62160</td>\n",
       "      <td>8.6661</td>\n",
       "      <td>-2.8073</td>\n",
       "      <td>-0.44699</td>\n",
       "      <td>0</td>\n",
       "    </tr>\n",
       "    <tr>\n",
       "      <th>1</th>\n",
       "      <td>4.54590</td>\n",
       "      <td>8.1674</td>\n",
       "      <td>-2.4586</td>\n",
       "      <td>-1.46210</td>\n",
       "      <td>0</td>\n",
       "    </tr>\n",
       "    <tr>\n",
       "      <th>2</th>\n",
       "      <td>3.86600</td>\n",
       "      <td>-2.6383</td>\n",
       "      <td>1.9242</td>\n",
       "      <td>0.10645</td>\n",
       "      <td>0</td>\n",
       "    </tr>\n",
       "    <tr>\n",
       "      <th>3</th>\n",
       "      <td>3.45660</td>\n",
       "      <td>9.5228</td>\n",
       "      <td>-4.0112</td>\n",
       "      <td>-3.59440</td>\n",
       "      <td>0</td>\n",
       "    </tr>\n",
       "    <tr>\n",
       "      <th>4</th>\n",
       "      <td>0.32924</td>\n",
       "      <td>-4.4552</td>\n",
       "      <td>4.5718</td>\n",
       "      <td>-0.98880</td>\n",
       "      <td>0</td>\n",
       "    </tr>\n",
       "  </tbody>\n",
       "</table>\n",
       "</div>"
      ],
      "text/plain": [
       "   variance   skewness  curtosis  entropy  class\n",
       "0   3.62160     8.6661   -2.8073 -0.44699      0\n",
       "1   4.54590     8.1674   -2.4586 -1.46210      0\n",
       "2   3.86600    -2.6383    1.9242  0.10645      0\n",
       "3   3.45660     9.5228   -4.0112 -3.59440      0\n",
       "4   0.32924    -4.4552    4.5718 -0.98880      0"
      ]
     },
     "execution_count": 45,
     "metadata": {},
     "output_type": "execute_result"
    }
   ],
   "source": [
    "df.head()"
   ]
  },
  {
   "cell_type": "code",
   "execution_count": 46,
   "metadata": {},
   "outputs": [
    {
     "data": {
      "text/plain": [
       "(1372, 5)"
      ]
     },
     "execution_count": 46,
     "metadata": {},
     "output_type": "execute_result"
    }
   ],
   "source": [
    "df.shape"
   ]
  },
  {
   "cell_type": "code",
   "execution_count": 47,
   "metadata": {},
   "outputs": [
    {
     "data": {
      "text/plain": [
       "Index(['variance', ' skewness', 'curtosis', 'entropy', 'class'], dtype='object')"
      ]
     },
     "execution_count": 47,
     "metadata": {},
     "output_type": "execute_result"
    }
   ],
   "source": [
    "df.columns"
   ]
  },
  {
   "cell_type": "code",
   "execution_count": 48,
   "metadata": {},
   "outputs": [
    {
     "data": {
      "text/plain": [
       "variance     0\n",
       " skewness    0\n",
       "curtosis     0\n",
       "entropy      0\n",
       "class        0\n",
       "dtype: int64"
      ]
     },
     "execution_count": 48,
     "metadata": {},
     "output_type": "execute_result"
    }
   ],
   "source": [
    "df.isnull().sum()"
   ]
  },
  {
   "cell_type": "code",
   "execution_count": 49,
   "metadata": {},
   "outputs": [
    {
     "data": {
      "text/plain": [
       "<matplotlib.axes._subplots.AxesSubplot at 0x1c74badb6c8>"
      ]
     },
     "execution_count": 49,
     "metadata": {},
     "output_type": "execute_result"
    },
    {
     "data": {
      "image/png": "[encoded data removed]",
      "text/plain": [
       "<Figure size 432x288 with 2 Axes>"
      ]
     },
     "metadata": {
      "needs_background": "light"
     },
     "output_type": "display_data"
    }
   ],
   "source": [
    "sns.heatmap(df.corr(),annot=True)"
   ]
  },
  {
   "cell_type": "code",
   "execution_count": 50,
   "metadata": {},
   "outputs": [
    {
     "data": {
      "text/plain": [
       "array([[<matplotlib.axes._subplots.AxesSubplot object at 0x000001C74C05F0C8>,\n",
       "        <matplotlib.axes._subplots.AxesSubplot object at 0x000001C74C07A748>],\n",
       "       [<matplotlib.axes._subplots.AxesSubplot object at 0x000001C74C0AFD08>,\n",
       "        <matplotlib.axes._subplots.AxesSubplot object at 0x000001C74C0E7E48>],\n",
       "       [<matplotlib.axes._subplots.AxesSubplot object at 0x000001C74C120F48>,\n",
       "        <matplotlib.axes._subplots.AxesSubplot object at 0x000001C74C159FC8>]],\n",
       "      dtype=object)"
      ]
     },
     "execution_count": 50,
     "metadata": {},
     "output_type": "execute_result"
    },
    {
     "data": {
      "image/png": "[encoded data removed]",
      "text/plain": [
       "<Figure size 1080x1080 with 6 Axes>"
      ]
     },
     "metadata": {
      "needs_background": "light"
     },
     "output_type": "display_data"
    }
   ],
   "source": [
    "df.hist(figsize=(15,15))"
   ]
  },
  {
   "cell_type": "code",
   "execution_count": 51,
   "metadata": {},
   "outputs": [
    {
     "data": {
      "text/html": [
       "<div>\n",
       "<style scoped>\n",
       "    .dataframe tbody tr th:only-of-type {\n",
       "        vertical-align: middle;\n",
       "    }\n",
       "\n",
       "    .dataframe tbody tr th {\n",
       "        vertical-align: top;\n",
       "    }\n",
       "\n",
       "    .dataframe thead th {\n",
       "        text-align: right;\n",
       "    }\n",
       "</style>\n",
       "<table border=\"1\" class=\"dataframe\">\n",
       "  <thead>\n",
       "    <tr style=\"text-align: right;\">\n",
       "      <th></th>\n",
       "      <th>variance</th>\n",
       "      <th>skewness</th>\n",
       "      <th>curtosis</th>\n",
       "      <th>entropy</th>\n",
       "    </tr>\n",
       "  </thead>\n",
       "  <tbody>\n",
       "    <tr>\n",
       "      <th>0</th>\n",
       "      <td>3.62160</td>\n",
       "      <td>8.6661</td>\n",
       "      <td>-2.8073</td>\n",
       "      <td>-0.44699</td>\n",
       "    </tr>\n",
       "    <tr>\n",
       "      <th>1</th>\n",
       "      <td>4.54590</td>\n",
       "      <td>8.1674</td>\n",
       "      <td>-2.4586</td>\n",
       "      <td>-1.46210</td>\n",
       "    </tr>\n",
       "    <tr>\n",
       "      <th>2</th>\n",
       "      <td>3.86600</td>\n",
       "      <td>-2.6383</td>\n",
       "      <td>1.9242</td>\n",
       "      <td>0.10645</td>\n",
       "    </tr>\n",
       "    <tr>\n",
       "      <th>3</th>\n",
       "      <td>3.45660</td>\n",
       "      <td>9.5228</td>\n",
       "      <td>-4.0112</td>\n",
       "      <td>-3.59440</td>\n",
       "    </tr>\n",
       "    <tr>\n",
       "      <th>4</th>\n",
       "      <td>0.32924</td>\n",
       "      <td>-4.4552</td>\n",
       "      <td>4.5718</td>\n",
       "      <td>-0.98880</td>\n",
       "    </tr>\n",
       "  </tbody>\n",
       "</table>\n",
       "</div>"
      ],
      "text/plain": [
       "   variance   skewness  curtosis  entropy\n",
       "0   3.62160     8.6661   -2.8073 -0.44699\n",
       "1   4.54590     8.1674   -2.4586 -1.46210\n",
       "2   3.86600    -2.6383    1.9242  0.10645\n",
       "3   3.45660     9.5228   -4.0112 -3.59440\n",
       "4   0.32924    -4.4552    4.5718 -0.98880"
      ]
     },
     "execution_count": 51,
     "metadata": {},
     "output_type": "execute_result"
    }
   ],
   "source": [
    "x=df.iloc[:,:-1]\n",
    "x.head()"
   ]
  },
  {
   "cell_type": "code",
   "execution_count": 52,
   "metadata": {},
   "outputs": [],
   "source": [
    "from sklearn.preprocessing import StandardScaler\n",
    "sc=StandardScaler()\n",
    "x=sc.fit_transform(x)"
   ]
  },
  {
   "cell_type": "code",
   "execution_count": 53,
   "metadata": {},
   "outputs": [
    {
     "data": {
      "text/plain": [
       "0    0\n",
       "1    0\n",
       "2    0\n",
       "3    0\n",
       "4    0\n",
       "Name: class, dtype: int64"
      ]
     },
     "execution_count": 53,
     "metadata": {},
     "output_type": "execute_result"
    }
   ],
   "source": [
    "y=df.iloc[:,-1]\n",
    "y.head()"
   ]
  },
  {
   "cell_type": "code",
   "execution_count": 55,
   "metadata": {},
   "outputs": [],
   "source": [
    "from sklearn.model_selection import train_test_split,cross_val_score\n",
    "x_train,x_test,y_train,y_test=train_test_split(x,y,test_size=0.3,random_state=9,stratify=y)"
   ]
  },
  {
   "cell_type": "code",
   "execution_count": 56,
   "metadata": {},
   "outputs": [
    {
     "name": "stdout",
     "output_type": "stream",
     "text": [
      "(960, 4) (412, 4)\n"
     ]
    }
   ],
   "source": [
    "print(x_train.shape,x_test.shape)"
   ]
  },
  {
   "cell_type": "code",
   "execution_count": 57,
   "metadata": {},
   "outputs": [
    {
     "name": "stdout",
     "output_type": "stream",
     "text": [
      "(960,) (412,)\n"
     ]
    }
   ],
   "source": [
    "print(y_train.shape,y_test.shape)"
   ]
  },
  {
   "cell_type": "code",
   "execution_count": 60,
   "metadata": {},
   "outputs": [],
   "source": [
    "from sklearn.neighbors import KNeighborsClassifier\n",
    "from sklearn.svm import SVC\n",
    "from sklearn.linear_model import LogisticRegression\n",
    "from sklearn.tree import DecisionTreeClassifier\n",
    "from sklearn.naive_bayes import GaussianNB"
   ]
  },
  {
   "cell_type": "code",
   "execution_count": 61,
   "metadata": {},
   "outputs": [],
   "source": [
    "KNN=KNeighborsClassifier(n_neighbors=6)\n",
    "SV=SVC()\n",
    "LR=LogisticRegression()\n",
    "DT=DecisionTreeClassifier(random_state=6)\n",
    "GNB=GaussianNB()"
   ]
  },
  {
   "cell_type": "code",
   "execution_count": 63,
   "metadata": {},
   "outputs": [],
   "source": [
    "models=[]\n",
    "models.append(('KNeighborsClassifier',KNN))\n",
    "models.append(('SVC',SV))\n",
    "models.append(('LogisticRegression',LR))\n",
    "models.append(('DecisionTreeClassifier',DT))\n",
    "models.append(('GaussianNB',GNB))"
   ]
  },
  {
   "cell_type": "code",
   "execution_count": 64,
   "metadata": {},
   "outputs": [],
   "source": [
    "from sklearn.metrics import classification_report,confusion_matrix,accuracy_score,roc_curve,auc"
   ]
  },
  {
   "cell_type": "code",
   "execution_count": 67,
   "metadata": {},
   "outputs": [
    {
     "name": "stdout",
     "output_type": "stream",
     "text": [
      "************ KNeighborsClassifier **********\n",
      "\n",
      "\n",
      "KNeighborsClassifier(algorithm='auto', leaf_size=30, metric='minkowski',\n",
      "                     metric_params=None, n_jobs=None, n_neighbors=6, p=2,\n",
      "                     weights='uniform')\n",
      "\n",
      "\n",
      "Accuracy_score= 1.0\n",
      "\n",
      "\n",
      "Cross_Val_Score= 0.9985401459854014\n",
      "\n",
      "\n",
      "roc_auc_score= 1.0\n",
      "\n",
      "\n",
      "classification_report\n",
      "               precision    recall  f1-score   support\n",
      "\n",
      "           0       1.00      1.00      1.00       229\n",
      "           1       1.00      1.00      1.00       183\n",
      "\n",
      "    accuracy                           1.00       412\n",
      "   macro avg       1.00      1.00      1.00       412\n",
      "weighted avg       1.00      1.00      1.00       412\n",
      "\n",
      "\n",
      "\n",
      "[[229   0]\n",
      " [  0 183]]\n",
      "\n",
      "\n",
      "\n",
      "\n",
      "\n",
      "************ SVC **********\n",
      "\n",
      "\n",
      "SVC(C=1.0, break_ties=False, cache_size=200, class_weight=None, coef0=0.0,\n",
      "    decision_function_shape='ovr', degree=3, gamma='scale', kernel='rbf',\n",
      "    max_iter=-1, probability=False, random_state=None, shrinking=True,\n",
      "    tol=0.001, verbose=False)\n",
      "\n",
      "\n",
      "Accuracy_score= 1.0\n",
      "\n",
      "\n",
      "Cross_Val_Score= 1.0\n",
      "\n",
      "\n",
      "roc_auc_score= 1.0\n",
      "\n",
      "\n",
      "classification_report\n",
      "               precision    recall  f1-score   support\n",
      "\n",
      "           0       1.00      1.00      1.00       229\n",
      "           1       1.00      1.00      1.00       183\n",
      "\n",
      "    accuracy                           1.00       412\n",
      "   macro avg       1.00      1.00      1.00       412\n",
      "weighted avg       1.00      1.00      1.00       412\n",
      "\n",
      "\n",
      "\n",
      "[[229   0]\n",
      " [  0 183]]\n",
      "\n",
      "\n",
      "\n",
      "\n",
      "\n",
      "************ LogisticRegression **********\n",
      "\n",
      "\n",
      "LogisticRegression(C=1.0, class_weight=None, dual=False, fit_intercept=True,\n",
      "                   intercept_scaling=1, l1_ratio=None, max_iter=100,\n",
      "                   multi_class='auto', n_jobs=None, penalty='l2',\n",
      "                   random_state=None, solver='lbfgs', tol=0.0001, verbose=0,\n",
      "                   warm_start=False)\n",
      "\n",
      "\n",
      "Accuracy_score= 0.9854368932038835\n",
      "\n",
      "\n",
      "Cross_Val_Score= 0.9810430551147784\n",
      "\n",
      "\n",
      "roc_auc_score= 0.9868995633187774\n",
      "\n",
      "\n",
      "classification_report\n",
      "               precision    recall  f1-score   support\n",
      "\n",
      "           0       1.00      0.97      0.99       229\n",
      "           1       0.97      1.00      0.98       183\n",
      "\n",
      "    accuracy                           0.99       412\n",
      "   macro avg       0.98      0.99      0.99       412\n",
      "weighted avg       0.99      0.99      0.99       412\n",
      "\n",
      "\n",
      "\n",
      "[[223   6]\n",
      " [  0 183]]\n",
      "\n",
      "\n",
      "\n",
      "\n",
      "\n",
      "************ DecisionTreeClassifier **********\n",
      "\n",
      "\n",
      "DecisionTreeClassifier(ccp_alpha=0.0, class_weight=None, criterion='gini',\n",
      "                       max_depth=None, max_features=None, max_leaf_nodes=None,\n",
      "                       min_impurity_decrease=0.0, min_impurity_split=None,\n",
      "                       min_samples_leaf=1, min_samples_split=2,\n",
      "                       min_weight_fraction_leaf=0.0, presort='deprecated',\n",
      "                       random_state=6, splitter='best')\n",
      "\n",
      "\n",
      "Accuracy_score= 0.9902912621359223\n",
      "\n",
      "\n",
      "Cross_Val_Score= 0.9854173278324343\n",
      "\n",
      "\n",
      "roc_auc_score= 0.9901687068986087\n",
      "\n",
      "\n",
      "classification_report\n",
      "               precision    recall  f1-score   support\n",
      "\n",
      "           0       0.99      0.99      0.99       229\n",
      "           1       0.99      0.99      0.99       183\n",
      "\n",
      "    accuracy                           0.99       412\n",
      "   macro avg       0.99      0.99      0.99       412\n",
      "weighted avg       0.99      0.99      0.99       412\n",
      "\n",
      "\n",
      "\n",
      "[[227   2]\n",
      " [  2 181]]\n",
      "\n",
      "\n",
      "\n",
      "\n",
      "\n",
      "************ GaussianNB **********\n",
      "\n",
      "\n",
      "GaussianNB(priors=None, var_smoothing=1e-09)\n",
      "\n",
      "\n",
      "Accuracy_score= 0.8689320388349514\n",
      "\n",
      "\n",
      "Cross_Val_Score= 0.8410769068020736\n",
      "\n",
      "\n",
      "roc_auc_score= 0.8606915312477629\n",
      "\n",
      "\n",
      "classification_report\n",
      "               precision    recall  f1-score   support\n",
      "\n",
      "           0       0.85      0.93      0.89       229\n",
      "           1       0.91      0.79      0.84       183\n",
      "\n",
      "    accuracy                           0.87       412\n",
      "   macro avg       0.88      0.86      0.87       412\n",
      "weighted avg       0.87      0.87      0.87       412\n",
      "\n",
      "\n",
      "\n",
      "[[214  15]\n",
      " [ 39 144]]\n",
      "\n",
      "\n",
      "\n",
      "\n",
      "\n"
     ]
    },
    {
     "data": {
      "image/png": "[encoded data removed]",
      "text/plain": [
       "<Figure size 720x2880 with 1 Axes>"
      ]
     },
     "metadata": {
      "needs_background": "light"
     },
     "output_type": "display_data"
    },
    {
     "data": {
      "image/png": "[encoded data removed]",
      "text/plain": [
       "<Figure size 720x2880 with 1 Axes>"
      ]
     },
     "metadata": {
      "needs_background": "light"
     },
     "output_type": "display_data"
    },
    {
     "data": {
      "image/png": "[encoded data removed]",
      "text/plain": [
       "<Figure size 720x2880 with 1 Axes>"
      ]
     },
     "metadata": {
      "needs_background": "light"
     },
     "output_type": "display_data"
    },
    {
     "data": {
      "image/png": "[encoded data removed]",
      "text/plain": [
       "<Figure size 720x2880 with 1 Axes>"
      ]
     },
     "metadata": {
      "needs_background": "light"
     },
     "output_type": "display_data"
    },
    {
     "data": {
      "image/png": "[encoded data removed]",
      "text/plain": [
       "<Figure size 720x2880 with 1 Axes>"
      ]
     },
     "metadata": {
      "needs_background": "light"
     },
     "output_type": "display_data"
    }
   ],
   "source": [
    "Model=[]\n",
    "score=[]\n",
    "CVS=[]\n",
    "rocscore=[]\n",
    "for name,model in models:\n",
    "    print('************',name,'**********')\n",
    "    print('\\n')\n",
    "    Model.append(name)\n",
    "    model.fit(x_train,y_train)\n",
    "    print(model)\n",
    "    pre=model.predict(x_test)\n",
    "    print('\\n')\n",
    "    AS=accuracy_score(y_test,pre)\n",
    "    print('Accuracy_score=',AS)\n",
    "    score.append(AS*100)\n",
    "    print('\\n')\n",
    "    sc=cross_val_score(model,x,y,cv=10,scoring='accuracy').mean()\n",
    "    print('Cross_Val_Score=',sc)\n",
    "    CVS.append(sc*100)\n",
    "    print('\\n')\n",
    "    false_positive_rate,true_positive_rate,threshold=roc_curve(y_test,pre)\n",
    "    roc_auc= auc(false_positive_rate,true_positive_rate)\n",
    "    print('roc_auc_score=',roc_auc)\n",
    "    rocscore.append(roc_auc*100)\n",
    "    print('\\n')\n",
    "    print('classification_report\\n',classification_report(y_test,pre))\n",
    "    print('\\n')\n",
    "    cm=confusion_matrix(y_test,pre)\n",
    "    print(cm)\n",
    "    print('\\n')\n",
    "    plt.figure(figsize=(10,40))\n",
    "    plt.subplot(911)\n",
    "    plt.title(name)\n",
    "    plt.plot(false_positive_rate,true_positive_rate,label='AUC = %0.2f'% roc_auc)\n",
    "    plt.plot([0,1],[0,1],'r--')\n",
    "    plt.legend(loc='lower right')\n",
    "    plt.ylabel('True positive Rate')\n",
    "    plt.xlabel('False Positive Rate')\n",
    "    print('\\n\\n')"
   ]
  },
  {
   "cell_type": "code",
   "execution_count": 69,
   "metadata": {},
   "outputs": [
    {
     "data": {
      "text/html": [
       "<div>\n",
       "<style scoped>\n",
       "    .dataframe tbody tr th:only-of-type {\n",
       "        vertical-align: middle;\n",
       "    }\n",
       "\n",
       "    .dataframe tbody tr th {\n",
       "        vertical-align: top;\n",
       "    }\n",
       "\n",
       "    .dataframe thead th {\n",
       "        text-align: right;\n",
       "    }\n",
       "</style>\n",
       "<table border=\"1\" class=\"dataframe\">\n",
       "  <thead>\n",
       "    <tr style=\"text-align: right;\">\n",
       "      <th></th>\n",
       "      <th>Model</th>\n",
       "      <th>Accuracy_score</th>\n",
       "      <th>cross_val_score</th>\n",
       "      <th>Roc_auc_curve</th>\n",
       "    </tr>\n",
       "  </thead>\n",
       "  <tbody>\n",
       "    <tr>\n",
       "      <th>0</th>\n",
       "      <td>KNeighborsClassifier</td>\n",
       "      <td>100.000000</td>\n",
       "      <td>99.854015</td>\n",
       "      <td>100.000000</td>\n",
       "    </tr>\n",
       "    <tr>\n",
       "      <th>1</th>\n",
       "      <td>SVC</td>\n",
       "      <td>100.000000</td>\n",
       "      <td>100.000000</td>\n",
       "      <td>100.000000</td>\n",
       "    </tr>\n",
       "    <tr>\n",
       "      <th>2</th>\n",
       "      <td>LogisticRegression</td>\n",
       "      <td>98.543689</td>\n",
       "      <td>98.104306</td>\n",
       "      <td>98.689956</td>\n",
       "    </tr>\n",
       "    <tr>\n",
       "      <th>3</th>\n",
       "      <td>DecisionTreeClassifier</td>\n",
       "      <td>99.029126</td>\n",
       "      <td>98.541733</td>\n",
       "      <td>99.016871</td>\n",
       "    </tr>\n",
       "    <tr>\n",
       "      <th>4</th>\n",
       "      <td>GaussianNB</td>\n",
       "      <td>86.893204</td>\n",
       "      <td>84.107691</td>\n",
       "      <td>86.069153</td>\n",
       "    </tr>\n",
       "  </tbody>\n",
       "</table>\n",
       "</div>"
      ],
      "text/plain": [
       "                    Model  Accuracy_score  cross_val_score  Roc_auc_curve\n",
       "0    KNeighborsClassifier      100.000000        99.854015     100.000000\n",
       "1                     SVC      100.000000       100.000000     100.000000\n",
       "2      LogisticRegression       98.543689        98.104306      98.689956\n",
       "3  DecisionTreeClassifier       99.029126        98.541733      99.016871\n",
       "4              GaussianNB       86.893204        84.107691      86.069153"
      ]
     },
     "execution_count": 69,
     "metadata": {},
     "output_type": "execute_result"
    }
   ],
   "source": [
    "result = pd.DataFrame({'Model':Model,'Accuracy_score': score,'cross_val_score':CVS,'Roc_auc_curve':rocscore})\n",
    "result"
   ]
  },
  {
   "cell_type": "code",
   "execution_count": 70,
   "metadata": {},
   "outputs": [],
   "source": [
    "from sklearn.externals import joblib"
   ]
  },
  {
   "cell_type": "code",
   "execution_count": 72,
   "metadata": {},
   "outputs": [
    {
     "data": {
      "text/plain": [
       "['Model_BanknoteAuthentication.csv']"
      ]
     },
     "execution_count": 72,
     "metadata": {},
     "output_type": "execute_result"
    }
   ],
   "source": [
    "joblib.dump(SV,'Model_BanknoteAuthentication.csv')"
   ]
  },
  {
   "cell_type": "code",
   "execution_count": 73,
   "metadata": {},
   "outputs": [],
   "source": [
    "model=joblib.load('Model_BanknoteAuthentication.csv')"
   ]
  },
  {
   "cell_type": "code",
   "execution_count": 74,
   "metadata": {},
   "outputs": [
    {
     "data": {
      "text/plain": [
       "array([0, 0, 1, 1, 0, 1, 1, 1, 1, 0, 1, 1, 0, 1, 0, 1, 0, 1, 0, 0, 1, 1,\n",
       "       0, 0, 1, 1, 1, 0, 1, 0, 0, 1, 1, 0, 1, 1, 0, 0, 1, 1, 1, 0, 1, 0,\n",
       "       0, 0, 1, 1, 0, 1, 0, 0, 1, 1, 0, 0, 0, 0, 0, 0, 0, 0, 0, 0, 0, 0,\n",
       "       0, 1, 0, 0, 1, 1, 1, 0, 0, 1, 1, 0, 0, 0, 0, 0, 0, 1, 0, 0, 1, 0,\n",
       "       0, 1, 1, 1, 0, 1, 1, 0, 0, 0, 0, 0, 1, 1, 0, 0, 0, 1, 1, 1, 1, 0,\n",
       "       1, 0, 1, 0, 0, 0, 0, 1, 1, 0, 1, 1, 0, 0, 0, 0, 0, 1, 0, 1, 0, 0,\n",
       "       1, 1, 0, 1, 1, 1, 1, 1, 1, 1, 0, 1, 0, 0, 0, 1, 1, 0, 0, 1, 0, 1,\n",
       "       1, 1, 1, 1, 1, 0, 0, 1, 1, 0, 1, 1, 0, 1, 1, 0, 0, 0, 0, 0, 1, 0,\n",
       "       0, 0, 0, 0, 1, 1, 1, 0, 0, 1, 0, 1, 0, 0, 1, 0, 1, 1, 1, 1, 1, 0,\n",
       "       0, 0, 0, 1, 1, 0, 0, 0, 1, 0, 1, 1, 0, 0, 1, 0, 1, 1, 1, 0, 0, 1,\n",
       "       1, 1, 0, 0, 0, 1, 1, 0, 0, 0, 0, 0, 1, 0, 0, 0, 1, 1, 0, 1, 1, 0,\n",
       "       0, 0, 0, 0, 1, 0, 0, 1, 0, 1, 0, 0, 1, 0, 1, 1, 1, 1, 0, 0, 0, 1,\n",
       "       0, 1, 0, 0, 0, 0, 0, 1, 0, 1, 1, 0, 0, 0, 0, 1, 0, 0, 1, 0, 0, 0,\n",
       "       1, 1, 0, 0, 0, 1, 0, 0, 0, 0, 0, 0, 1, 0, 1, 0, 1, 1, 1, 0, 1, 0,\n",
       "       1, 1, 1, 1, 1, 1, 1, 1, 0, 0, 0, 0, 0, 0, 0, 1, 0, 0, 0, 1, 1, 1,\n",
       "       1, 1, 0, 1, 1, 0, 0, 1, 1, 0, 0, 0, 0, 0, 0, 0, 0, 0, 0, 1, 0, 0,\n",
       "       0, 0, 0, 0, 1, 0, 1, 0, 0, 1, 0, 0, 1, 1, 0, 0, 0, 0, 1, 0, 0, 0,\n",
       "       1, 1, 1, 1, 0, 1, 1, 1, 0, 0, 0, 0, 0, 1, 0, 1, 1, 0, 0, 1, 1, 1,\n",
       "       0, 1, 0, 1, 1, 1, 0, 1, 0, 0, 1, 0, 0, 1, 0, 1], dtype=int64)"
      ]
     },
     "execution_count": 74,
     "metadata": {},
     "output_type": "execute_result"
    }
   ],
   "source": [
    "model.predict(x_test)"
   ]
  },
  {
   "cell_type": "code",
   "execution_count": null,
   "metadata": {},
   "outputs": [],
   "source": []
  }
 ],
 "metadata": {
  "kernelspec": {
   "display_name": "Python 3",
   "language": "python",
   "name": "python3"
  },
  "language_info": {
   "codemirror_mode": {
    "name": "ipython",
    "version": 3
   },
   "file_extension": ".py",
   "mimetype": "text/x-python",
   "name": "python",
   "nbconvert_exporter": "python",
   "pygments_lexer": "ipython3",
   "version": "3.7.6"
  }
 },
 "nbformat": 4,
 "nbformat_minor": 4
}
